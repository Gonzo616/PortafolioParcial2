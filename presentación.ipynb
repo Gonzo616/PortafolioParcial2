{
  "nbformat": 4,
  "nbformat_minor": 0,
  "metadata": {
    "colab": {
      "name": "presentación.ipynb",
      "provenance": [],
      "collapsed_sections": [],
      "toc_visible": true
    },
    "kernelspec": {
      "display_name": "Python 3",
      "language": "python",
      "name": "python3"
    },
    "language_info": {
      "codemirror_mode": {
        "name": "ipython",
        "version": 3
      },
      "file_extension": ".py",
      "mimetype": "text/x-python",
      "name": "python",
      "nbconvert_exporter": "python",
      "pygments_lexer": "ipython3",
      "version": "3.8.3"
    }
  },
  "cells": [
    {
      "cell_type": "code",
      "metadata": {
        "id": "2UKpsH3clq3X"
      },
      "source": [
        "import numpy as np\n",
        "np.random.seed(4)\n",
        "import matplotlib.pyplot as plt\n",
        "import pandas as pd\n",
        "import pandas_datareader.data as web\n",
        "import datetime"
      ],
      "execution_count": null,
      "outputs": []
    },
    {
      "cell_type": "code",
      "metadata": {
        "id": "8bMQ1IYJBgGe"
      },
      "source": [
        "from sklearn.preprocessing import MinMaxScaler\n",
        "from keras.layers import Dense, LSTM\n",
        "from keras.models import Sequential"
      ],
      "execution_count": null,
      "outputs": []
    },
    {
      "cell_type": "code",
      "metadata": {
        "id": "iTWe1pMPBgGi"
      },
      "source": [
        "#\n",
        "# Funciones auxiliares\n",
        "#\n",
        "def graficar_predicciones(real, prediccion):\n",
        "    plt.plot(real[0:len(prediccion)],color='red', label='Valor real de la acción')\n",
        "    plt.plot(prediccion, color='blue', label='Predicción de la acción')\n",
        "    plt.ylim(1.1 * np.min(prediccion)/2, 1.1 * np.max(prediccion))\n",
        "    plt.xlabel('Tiempo')\n",
        "    plt.ylabel('Valor de la acción')\n",
        "    plt.legend()\n",
        "    plt.show()"
      ],
      "execution_count": null,
      "outputs": []
    },
    {
      "cell_type": "code",
      "metadata": {
        "colab": {
          "base_uri": "https://localhost:8080/",
          "height": 235
        },
        "id": "glBn7jm-BgGo",
        "outputId": "ab09390c-c7b1-4aa2-ae59-8cc5126366ea"
      },
      "source": [
        "#\n",
        "# Lectura de los datos\n",
        "#\n",
        "#dataset = pd.read_csv('Futuros del Índice S&P 500 - Este es el bueno.csv', index_col='Fecha', parse_dates=['Fecha'])\n",
        "#dataset.head()\n",
        "start = datetime.datetime(2015,1,1)\n",
        "end = datetime.datetime(2020,12,31)\n",
        "dataset = web.get_data_yahoo('VOO','01/01/2010',interval='m')\n",
        "dataset.head()"
      ],
      "execution_count": null,
      "outputs": [
        {
          "output_type": "execute_result",
          "data": {
            "text/html": [
              "<div>\n",
              "<style scoped>\n",
              "    .dataframe tbody tr th:only-of-type {\n",
              "        vertical-align: middle;\n",
              "    }\n",
              "\n",
              "    .dataframe tbody tr th {\n",
              "        vertical-align: top;\n",
              "    }\n",
              "\n",
              "    .dataframe thead th {\n",
              "        text-align: right;\n",
              "    }\n",
              "</style>\n",
              "<table border=\"1\" class=\"dataframe\">\n",
              "  <thead>\n",
              "    <tr style=\"text-align: right;\">\n",
              "      <th></th>\n",
              "      <th>High</th>\n",
              "      <th>Low</th>\n",
              "      <th>Open</th>\n",
              "      <th>Close</th>\n",
              "      <th>Volume</th>\n",
              "      <th>Adj Close</th>\n",
              "    </tr>\n",
              "    <tr>\n",
              "      <th>Date</th>\n",
              "      <th></th>\n",
              "      <th></th>\n",
              "      <th></th>\n",
              "      <th></th>\n",
              "      <th></th>\n",
              "      <th></th>\n",
              "    </tr>\n",
              "  </thead>\n",
              "  <tbody>\n",
              "    <tr>\n",
              "      <th>2010-10-01</th>\n",
              "      <td>109.279999</td>\n",
              "      <td>103.500000</td>\n",
              "      <td>105.080002</td>\n",
              "      <td>108.300003</td>\n",
              "      <td>951600.0</td>\n",
              "      <td>88.645699</td>\n",
              "    </tr>\n",
              "    <tr>\n",
              "      <th>2010-11-01</th>\n",
              "      <td>112.300003</td>\n",
              "      <td>107.480003</td>\n",
              "      <td>108.919998</td>\n",
              "      <td>108.180000</td>\n",
              "      <td>1070400.0</td>\n",
              "      <td>88.547455</td>\n",
              "    </tr>\n",
              "    <tr>\n",
              "      <th>2010-12-01</th>\n",
              "      <td>115.599998</td>\n",
              "      <td>109.879997</td>\n",
              "      <td>109.919998</td>\n",
              "      <td>115.139999</td>\n",
              "      <td>1670300.0</td>\n",
              "      <td>94.244339</td>\n",
              "    </tr>\n",
              "    <tr>\n",
              "      <th>2011-01-01</th>\n",
              "      <td>119.220001</td>\n",
              "      <td>115.480003</td>\n",
              "      <td>115.940002</td>\n",
              "      <td>117.699997</td>\n",
              "      <td>4402150.0</td>\n",
              "      <td>96.780792</td>\n",
              "    </tr>\n",
              "    <tr>\n",
              "      <th>2011-02-01</th>\n",
              "      <td>123.220001</td>\n",
              "      <td>118.379997</td>\n",
              "      <td>118.480003</td>\n",
              "      <td>121.779999</td>\n",
              "      <td>2761400.0</td>\n",
              "      <td>100.135674</td>\n",
              "    </tr>\n",
              "  </tbody>\n",
              "</table>\n",
              "</div>"
            ],
            "text/plain": [
              "                  High         Low  ...     Volume   Adj Close\n",
              "Date                                ...                       \n",
              "2010-10-01  109.279999  103.500000  ...   951600.0   88.645699\n",
              "2010-11-01  112.300003  107.480003  ...  1070400.0   88.547455\n",
              "2010-12-01  115.599998  109.879997  ...  1670300.0   94.244339\n",
              "2011-01-01  119.220001  115.480003  ...  4402150.0   96.780792\n",
              "2011-02-01  123.220001  118.379997  ...  2761400.0  100.135674\n",
              "\n",
              "[5 rows x 6 columns]"
            ]
          },
          "metadata": {
            "tags": []
          },
          "execution_count": 7
        }
      ]
    },
    {
      "cell_type": "code",
      "metadata": {
        "colab": {
          "base_uri": "https://localhost:8080/",
          "height": 279
        },
        "id": "dSadYSVgBgG6",
        "outputId": "ef9bbc26-312c-49e1-a160-e92830ddb016"
      },
      "source": [
        "#\n",
        "# Sets de entrenamiento y validación \n",
        "# La LSTM se entrenará con datos de 2016 hacia atrás. La validación se hará con datos de 2017 en adelante.\n",
        "# En ambos casos sólo se usará el valor más alto de la acción para cada día\n",
        "#\n",
        "\n",
        "set_entrenamiento = dataset['2010':'2019'].iloc[:,3:4]\n",
        "set_validacion = dataset['2020':].iloc[:,3:4]\n",
        "set_entrenamiento['Close'].plot(legend=True)\n",
        "set_validacion['Close'].plot(legend=True)\n",
        "plt.legend(['Entrenamiento (Ene 2010-Dic 2019)', 'Validacion (Ene 2020 - Actualidad)'])\n",
        "plt.show()"
      ],
      "execution_count": null,
      "outputs": [
        {
          "output_type": "display_data",
          "data": {
            "image/png": "[encoded data removed]",
            "text/plain": [
              "<Figure size 432x288 with 1 Axes>"
            ]
          },
          "metadata": {
            "tags": [],
            "needs_background": "light"
          }
        }
      ]
    },
    {
      "cell_type": "code",
      "metadata": {
        "colab": {
          "base_uri": "https://localhost:8080/"
        },
        "id": "yZfQMFJvBgHG",
        "outputId": "b5ed31b2-a1cb-4ff6-ab2b-aa4409689a88"
      },
      "source": [
        "# Normalización del set de entrenamiento\n",
        "sc = MinMaxScaler(feature_range=(0,1))\n",
        "print(sc)\n",
        "print(set_entrenamiento)\n",
        "set_entrenamiento_escalado = sc.fit_transform(set_entrenamiento)"
      ],
      "execution_count": null,
      "outputs": [
        {
          "output_type": "stream",
          "text": [
            "MinMaxScaler(copy=True, feature_range=(0, 1))\n",
            "                 Close\n",
            "Date                  \n",
            "2010-10-01  108.300003\n",
            "2010-11-01  108.180000\n",
            "2010-12-01  115.139999\n",
            "2011-01-01  117.699997\n",
            "2011-02-01  121.779999\n",
            "...                ...\n",
            "2019-08-01  268.600006\n",
            "2019-09-01  272.600006\n",
            "2019-10-01  278.549988\n",
            "2019-11-01  288.649994\n",
            "2019-12-01  295.799988\n",
            "\n",
            "[111 rows x 1 columns]\n"
          ],
          "name": "stdout"
        }
      ]
    },
    {
      "cell_type": "markdown",
      "metadata": {
        "id": "7mLXvcbvBgHL"
      },
      "source": [
        "## La red LSTM tendrá como entrada \"time_step\" datos consecutivos, y como salida 1 dato (la predicción a\n",
        "# partir de esos \"time_step\" datos). Se conformará de esta forma el set de entrenamiento\n",
        "time_step = 726\n",
        "X_train = []\n",
        "Y_train = []\n",
        "m = len(set_entrenamiento_escalado)"
      ]
    },
    {
      "cell_type": "code",
      "metadata": {
        "id": "LPH7Qxe4KibN"
      },
      "source": [
        "time_step = 3\n",
        "X_train = [] \n",
        "Y_train = [] \n",
        "m = len(set_entrenamiento_escalado)"
      ],
      "execution_count": null,
      "outputs": []
    },
    {
      "cell_type": "code",
      "metadata": {
        "colab": {
          "base_uri": "https://localhost:8080/"
        },
        "id": "Qr0LzvuRBgHQ",
        "outputId": "af0f955d-d09e-4f23-9cb8-c0bc65652c0d"
      },
      "source": [
        "for i in range(time_step,m):\n",
        "    # X: bloques de \"time_step\" datos: 0-time_step, 1-time_step+1, 2-time_step+2, etc\n",
        "    X_train.append(set_entrenamiento_escalado[i-time_step:i,0])\n",
        "    # Y: el siguiente dato\n",
        "    Y_train.append(set_entrenamiento_escalado[i,0])\n",
        "X_train, Y_train = np.array(X_train), np.array(Y_train)\n",
        "X_train = np.reshape(X_train, (X_train.shape[0], X_train.shape[1], 1))\n",
        "len(X_train)"
      ],
      "execution_count": null,
      "outputs": [
        {
          "output_type": "execute_result",
          "data": {
            "text/plain": [
              "108"
            ]
          },
          "metadata": {
            "tags": []
          },
          "execution_count": 11
        }
      ]
    },
    {
      "cell_type": "code",
      "metadata": {
        "colab": {
          "base_uri": "https://localhost:8080/"
        },
        "id": "okIZxUBSBgHg",
        "outputId": "0f1ff574-8124-4363-82b6-ab7dd5eab24c"
      },
      "source": [
        "#\n",
        "# Red LSTM\n",
        "#\n",
        "dim_entrada = (X_train.shape[1],1)\n",
        "dim_salida = 1\n",
        "print(dim_entrada)\n",
        "na = 120\n",
        "\n",
        "modelo = Sequential()\n",
        "modelo.add(LSTM(units=na, input_shape=dim_entrada))\n",
        "modelo.add(Dense(units=dim_salida))\n",
        "modelo.compile(optimizer='rmsprop', loss='mse')\n",
        "modelo.fit(X_train,Y_train,epochs=20,batch_size=12)"
      ],
      "execution_count": null,
      "outputs": [
        {
          "output_type": "stream",
          "text": [
            "(3, 1)\n",
            "Epoch 1/20\n",
            "9/9 [==============================] - 2s 4ms/step - loss: 0.1329\n",
            "Epoch 2/20\n",
            "9/9 [==============================] - 0s 3ms/step - loss: 0.0121\n",
            "Epoch 3/20\n",
            "9/9 [==============================] - 0s 3ms/step - loss: 0.0074\n",
            "Epoch 4/20\n",
            "9/9 [==============================] - 0s 3ms/step - loss: 0.0046\n",
            "Epoch 5/20\n",
            "9/9 [==============================] - 0s 3ms/step - loss: 0.0031\n",
            "Epoch 6/20\n",
            "9/9 [==============================] - 0s 3ms/step - loss: 0.0023\n",
            "Epoch 7/20\n",
            "9/9 [==============================] - 0s 3ms/step - loss: 0.0031\n",
            "Epoch 8/20\n",
            "9/9 [==============================] - 0s 3ms/step - loss: 0.0016\n",
            "Epoch 9/20\n",
            "9/9 [==============================] - 0s 4ms/step - loss: 0.0017\n",
            "Epoch 10/20\n",
            "9/9 [==============================] - 0s 4ms/step - loss: 0.0028\n",
            "Epoch 11/20\n",
            "9/9 [==============================] - 0s 4ms/step - loss: 0.0014\n",
            "Epoch 12/20\n",
            "9/9 [==============================] - 0s 4ms/step - loss: 0.0023\n",
            "Epoch 13/20\n",
            "9/9 [==============================] - 0s 3ms/step - loss: 0.0018\n",
            "Epoch 14/20\n",
            "9/9 [==============================] - 0s 4ms/step - loss: 0.0025\n",
            "Epoch 15/20\n",
            "9/9 [==============================] - 0s 5ms/step - loss: 0.0017\n",
            "Epoch 16/20\n",
            "9/9 [==============================] - 0s 3ms/step - loss: 0.0021\n",
            "Epoch 17/20\n",
            "9/9 [==============================] - 0s 3ms/step - loss: 0.0029\n",
            "Epoch 18/20\n",
            "9/9 [==============================] - 0s 4ms/step - loss: 0.0014\n",
            "Epoch 19/20\n",
            "9/9 [==============================] - 0s 4ms/step - loss: 0.0020\n",
            "Epoch 20/20\n",
            "9/9 [==============================] - 0s 3ms/step - loss: 0.0020\n"
          ],
          "name": "stdout"
        },
        {
          "output_type": "execute_result",
          "data": {
            "text/plain": [
              "<tensorflow.python.keras.callbacks.History at 0x7ff2a2bb4668>"
            ]
          },
          "metadata": {
            "tags": []
          },
          "execution_count": 12
        }
      ]
    },
    {
      "cell_type": "code",
      "metadata": {
        "colab": {
          "base_uri": "https://localhost:8080/",
          "height": 739
        },
        "id": "C0X8ySdsBgHp",
        "outputId": "fab4cf66-62fc-4919-bb6d-438ee79b0d91"
      },
      "source": [
        "#\n",
        "# Validación (predicción del valor de las acciones)\n",
        "#\n",
        "\n",
        "x_test = set_validacion.values\n",
        "x_test = sc.transform(x_test)\n",
        "\n",
        "X_test = []\n",
        "\n",
        "m = len(x_test)\n",
        "for i in range(time_step,m):\n",
        "  X_test.append(x_test[i-time_step:i,0])\n",
        "X_test = np.array(X_test)\n",
        "X_test = np.reshape(X_test, (X_test.shape[0],X_test.shape[1],1))\n",
        "\n",
        "prediccion = modelo.predict(X_test)\n",
        "prediccion = sc.inverse_transform(prediccion)\n",
        "\n",
        "# Graficar resultados\n",
        "print(set_validacion)\n",
        "print(prediccion)\n",
        "graficar_predicciones(set_validacion.values,prediccion)"
      ],
      "execution_count": null,
      "outputs": [
        {
          "output_type": "stream",
          "text": [
            "                 Close\n",
            "Date                  \n",
            "2020-01-01  295.690002\n",
            "2020-02-01  271.739990\n",
            "2020-03-01  236.820007\n",
            "2020-04-01  267.100006\n",
            "2020-05-01  279.750000\n",
            "2020-06-01  283.429993\n",
            "2020-07-01  300.100006\n",
            "2020-08-01  321.019989\n",
            "2020-09-01  307.649994\n",
            "2020-10-01  299.820007\n",
            "2020-11-01  332.640015\n",
            "2020-12-01  343.690002\n",
            "2021-01-01  351.899994\n",
            "2021-01-25  353.329987\n",
            "[[290.95673]\n",
            " [271.8555 ]\n",
            " [269.269  ]\n",
            " [290.40298]\n",
            " [302.22116]\n",
            " [315.74512]\n",
            " [329.87457]\n",
            " [333.5522 ]\n",
            " [330.9797 ]\n",
            " [342.94553]\n",
            " [366.939  ]]\n"
          ],
          "name": "stdout"
        },
        {
          "output_type": "display_data",
          "data": {
            "image/png": "[encoded data removed]",
            "text/plain": [
              "<Figure size 432x288 with 1 Axes>"
            ]
          },
          "metadata": {
            "tags": [],
            "needs_background": "light"
          }
        }
      ]
    },
    {
      "cell_type": "code",
      "metadata": {
        "id": "CE8jMelflq6x"
      },
      "source": [
        ""
      ],
      "execution_count": null,
      "outputs": []
    },
    {
      "cell_type": "code",
      "metadata": {
        "id": "koPk-_Vxlq6y"
      },
      "source": [
        ""
      ],
      "execution_count": null,
      "outputs": []
    }
  ]
}